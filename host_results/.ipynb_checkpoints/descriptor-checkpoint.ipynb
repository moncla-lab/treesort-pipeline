{
 "cells": [
  {
   "cell_type": "code",
   "execution_count": 1,
   "id": "290dace0-7e0c-418d-970d-05fea230b861",
   "metadata": {},
   "outputs": [],
   "source": [
    "import pandas as pd\n",
    "import os\n",
    "import re\n",
    "import sys\n",
    "import subprocess\n",
    "from datetime import datetime\n",
    "import json\n",
    "import baltic as bt\n",
    "import caffeine\n",
    "\n",
    "list_of_genes = [\"ha\", \"pb2\",\"pb1\",\"na\",\"np\",\"pa\",\"ns\",\"mp\"]"
   ]
  },
  {
   "cell_type": "code",
   "execution_count": 2,
   "id": "66fce3d5-6624-4d34-9192-485bdfba8701",
   "metadata": {},
   "outputs": [],
   "source": [
    "def descriptor(host, aln, tree):\n",
    "    \n",
    "    descriptor_entries = [] \n",
    "\n",
    "    for gene in list_of_genes:\n",
    "\n",
    "        gene_label = f\"*{gene.upper()}\" if gene == \"ha\" else gene.upper()\n",
    "        \n",
    "        align_path = f\"{aln}/h3nx_{gene}.fasta\"\n",
    "        div_path = f\"{tree}/h3nx_{gene}_rooted/rerooted.newick\"\n",
    "        \n",
    "        descriptor_entries.append([gene_label, align_path, div_path])\n",
    "        \n",
    "    print(descriptor_entries)\n",
    "\n",
    "    # descriptor csv\n",
    "    with open(f\"./{host}/descriptor.csv\", 'w+') as descriptor_file:\n",
    "        for row in descriptor_entries:\n",
    "            descriptor_file.write(','.join(row) + '\\n')"
   ]
  },
  {
   "cell_type": "code",
   "execution_count": 6,
   "id": "9668fecb-7ded-4806-94ac-263091909559",
   "metadata": {},
   "outputs": [
    {
     "name": "stdout",
     "output_type": "stream",
     "text": [
      "[['*HA', 'data/alignments/h3nx_ha.fasta', 'results/trees_rooted/h3nx_ha_rooted/rerooted.newick'], ['PB2', 'data/alignments/h3nx_pb2.fasta', 'results/trees_rooted/h3nx_pb2_rooted/rerooted.newick'], ['PB1', 'data/alignments/h3nx_pb1.fasta', 'results/trees_rooted/h3nx_pb1_rooted/rerooted.newick'], ['NA', 'data/alignments/h3nx_na.fasta', 'results/trees_rooted/h3nx_na_rooted/rerooted.newick'], ['NP', 'data/alignments/h3nx_np.fasta', 'results/trees_rooted/h3nx_np_rooted/rerooted.newick'], ['PA', 'data/alignments/h3nx_pa.fasta', 'results/trees_rooted/h3nx_pa_rooted/rerooted.newick'], ['NS', 'data/alignments/h3nx_ns.fasta', 'results/trees_rooted/h3nx_ns_rooted/rerooted.newick'], ['MP', 'data/alignments/h3nx_mp.fasta', 'results/trees_rooted/h3nx_mp_rooted/rerooted.newick']]\n"
     ]
    },
    {
     "ename": "FileNotFoundError",
     "evalue": "[Errno 2] No such file or directory: './human/descriptor.csv'",
     "output_type": "error",
     "traceback": [
      "\u001b[0;31m---------------------------------------------------------------------------\u001b[0m",
      "\u001b[0;31mFileNotFoundError\u001b[0m                         Traceback (most recent call last)",
      "Cell \u001b[0;32mIn[6], line 1\u001b[0m\n\u001b[0;32m----> 1\u001b[0m \u001b[43mdescriptor\u001b[49m\u001b[43m(\u001b[49m\u001b[38;5;124;43m\"\u001b[39;49m\u001b[38;5;124;43mhuman\u001b[39;49m\u001b[38;5;124;43m\"\u001b[39;49m\u001b[43m,\u001b[49m\u001b[38;5;124;43m\"\u001b[39;49m\u001b[38;5;124;43mdata/alignments\u001b[39;49m\u001b[38;5;124;43m\"\u001b[39;49m\u001b[43m,\u001b[49m\u001b[43m \u001b[49m\u001b[38;5;124;43m\"\u001b[39;49m\u001b[38;5;124;43mresults/trees_rooted\u001b[39;49m\u001b[38;5;124;43m\"\u001b[39;49m\u001b[43m)\u001b[49m\n",
      "Cell \u001b[0;32mIn[2], line 17\u001b[0m, in \u001b[0;36mdescriptor\u001b[0;34m(host, aln, tree)\u001b[0m\n\u001b[1;32m     14\u001b[0m \u001b[38;5;28mprint\u001b[39m(descriptor_entries)\n\u001b[1;32m     16\u001b[0m \u001b[38;5;66;03m# descriptor csv\u001b[39;00m\n\u001b[0;32m---> 17\u001b[0m \u001b[38;5;28;01mwith\u001b[39;00m \u001b[38;5;28;43mopen\u001b[39;49m\u001b[43m(\u001b[49m\u001b[38;5;124;43mf\u001b[39;49m\u001b[38;5;124;43m\"\u001b[39;49m\u001b[38;5;124;43m./\u001b[39;49m\u001b[38;5;132;43;01m{\u001b[39;49;00m\u001b[43mhost\u001b[49m\u001b[38;5;132;43;01m}\u001b[39;49;00m\u001b[38;5;124;43m/descriptor.csv\u001b[39;49m\u001b[38;5;124;43m\"\u001b[39;49m\u001b[43m,\u001b[49m\u001b[43m \u001b[49m\u001b[38;5;124;43m'\u001b[39;49m\u001b[38;5;124;43mw+\u001b[39;49m\u001b[38;5;124;43m'\u001b[39;49m\u001b[43m)\u001b[49m \u001b[38;5;28;01mas\u001b[39;00m descriptor_file:\n\u001b[1;32m     18\u001b[0m     \u001b[38;5;28;01mfor\u001b[39;00m row \u001b[38;5;129;01min\u001b[39;00m descriptor_entries:\n\u001b[1;32m     19\u001b[0m         descriptor_file\u001b[38;5;241m.\u001b[39mwrite(\u001b[38;5;124m'\u001b[39m\u001b[38;5;124m,\u001b[39m\u001b[38;5;124m'\u001b[39m\u001b[38;5;241m.\u001b[39mjoin(row) \u001b[38;5;241m+\u001b[39m \u001b[38;5;124m'\u001b[39m\u001b[38;5;130;01m\\n\u001b[39;00m\u001b[38;5;124m'\u001b[39m)\n",
      "File \u001b[0;32m~/anaconda3/lib/python3.10/site-packages/IPython/core/interactiveshell.py:282\u001b[0m, in \u001b[0;36m_modified_open\u001b[0;34m(file, *args, **kwargs)\u001b[0m\n\u001b[1;32m    275\u001b[0m \u001b[38;5;28;01mif\u001b[39;00m file \u001b[38;5;129;01min\u001b[39;00m {\u001b[38;5;241m0\u001b[39m, \u001b[38;5;241m1\u001b[39m, \u001b[38;5;241m2\u001b[39m}:\n\u001b[1;32m    276\u001b[0m     \u001b[38;5;28;01mraise\u001b[39;00m \u001b[38;5;167;01mValueError\u001b[39;00m(\n\u001b[1;32m    277\u001b[0m         \u001b[38;5;124mf\u001b[39m\u001b[38;5;124m\"\u001b[39m\u001b[38;5;124mIPython won\u001b[39m\u001b[38;5;124m'\u001b[39m\u001b[38;5;124mt let you open fd=\u001b[39m\u001b[38;5;132;01m{\u001b[39;00mfile\u001b[38;5;132;01m}\u001b[39;00m\u001b[38;5;124m by default \u001b[39m\u001b[38;5;124m\"\u001b[39m\n\u001b[1;32m    278\u001b[0m         \u001b[38;5;124m\"\u001b[39m\u001b[38;5;124mas it is likely to crash IPython. If you know what you are doing, \u001b[39m\u001b[38;5;124m\"\u001b[39m\n\u001b[1;32m    279\u001b[0m         \u001b[38;5;124m\"\u001b[39m\u001b[38;5;124myou can use builtins\u001b[39m\u001b[38;5;124m'\u001b[39m\u001b[38;5;124m open.\u001b[39m\u001b[38;5;124m\"\u001b[39m\n\u001b[1;32m    280\u001b[0m     )\n\u001b[0;32m--> 282\u001b[0m \u001b[38;5;28;01mreturn\u001b[39;00m \u001b[43mio_open\u001b[49m\u001b[43m(\u001b[49m\u001b[43mfile\u001b[49m\u001b[43m,\u001b[49m\u001b[43m \u001b[49m\u001b[38;5;241;43m*\u001b[39;49m\u001b[43margs\u001b[49m\u001b[43m,\u001b[49m\u001b[43m \u001b[49m\u001b[38;5;241;43m*\u001b[39;49m\u001b[38;5;241;43m*\u001b[39;49m\u001b[43mkwargs\u001b[49m\u001b[43m)\u001b[49m\n",
      "\u001b[0;31mFileNotFoundError\u001b[0m: [Errno 2] No such file or directory: './human/descriptor.csv'"
     ]
    }
   ],
   "source": [
    "descriptor(\"human \",\"data/alignments\", \"results/trees_rooted\")"
   ]
  },
  {
   "cell_type": "code",
   "execution_count": 7,
   "id": "3097dd53-35c1-4470-ba8c-91c8c7e301a4",
   "metadata": {},
   "outputs": [
    {
     "name": "stdout",
     "output_type": "stream",
     "text": [
      "Current working directory: /Users/monclalab1/Documents/h3nx/h3nx_build/condition_on_ha/analysis/treesort/no-collapse/ha_automate/pipeline/hosts\n"
     ]
    }
   ],
   "source": [
    "import os\n",
    "print(\"Current working directory:\", os.getcwd())\n"
   ]
  },
  {
   "cell_type": "code",
   "execution_count": null,
   "id": "97bed833-5a60-4387-b73c-99563f002ab9",
   "metadata": {},
   "outputs": [],
   "source": []
  }
 ],
 "metadata": {
  "kernelspec": {
   "display_name": "Python 3 (ipykernel)",
   "language": "python",
   "name": "python3"
  },
  "language_info": {
   "codemirror_mode": {
    "name": "ipython",
    "version": 3
   },
   "file_extension": ".py",
   "mimetype": "text/x-python",
   "name": "python",
   "nbconvert_exporter": "python",
   "pygments_lexer": "ipython3",
   "version": "3.10.9"
  }
 },
 "nbformat": 4,
 "nbformat_minor": 5
}
