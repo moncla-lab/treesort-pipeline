{
 "cells": [
  {
   "cell_type": "code",
   "execution_count": 1,
   "id": "290dace0-7e0c-418d-970d-05fea230b861",
   "metadata": {},
   "outputs": [],
   "source": [
    "import pandas as pd\n",
    "import os\n",
    "import re\n",
    "import sys\n",
    "import subprocess\n",
    "from datetime import datetime\n",
    "import json\n",
    "import baltic as bt\n",
    "import caffeine\n",
    "\n",
    "list_of_genes = [\"ha\", \"pb2\",\"pb1\",\"na\",\"np\",\"pa\",\"ns\",\"mp\"]"
   ]
  },
  {
   "cell_type": "code",
   "execution_count": 2,
   "id": "66fce3d5-6624-4d34-9192-485bdfba8701",
   "metadata": {},
   "outputs": [],
   "source": [
    "def descriptor(host, aln, tree):\n",
    "    \n",
    "    descriptor_entries = [] \n",
    "\n",
    "    for gene in list_of_genes:\n",
    "\n",
    "        gene_label = f\"*{gene.upper()}\" if gene == \"ha\" else gene.upper()\n",
    "        \n",
    "        align_path = f\"{aln}/h3nx_{gene}.fasta\"\n",
    "        div_path = f\"{tree}/h3nx_{gene}_rooted/rerooted.newick\"\n",
    "        \n",
    "        descriptor_entries.append([gene_label, align_path, div_path])\n",
    "        \n",
    "    print(descriptor_entries)\n",
    "\n",
    "    # descriptor csv\n",
    "    with open(f\"./{host}/descriptor.csv\", 'w+') as descriptor_file:\n",
    "        for row in descriptor_entries:\n",
    "            descriptor_file.write(','.join(row) + '\\n')"
   ]
  },
  {
   "cell_type": "code",
   "execution_count": 10,
   "id": "9668fecb-7ded-4806-94ac-263091909559",
   "metadata": {},
   "outputs": [
    {
     "name": "stdout",
     "output_type": "stream",
     "text": [
      "[['*HA', 'data/alignments/h3nx_ha.fasta', 'results/trees_rooted/h3nx_ha_rooted/rerooted.newick'], ['PB2', 'data/alignments/h3nx_pb2.fasta', 'results/trees_rooted/h3nx_pb2_rooted/rerooted.newick'], ['PB1', 'data/alignments/h3nx_pb1.fasta', 'results/trees_rooted/h3nx_pb1_rooted/rerooted.newick'], ['NA', 'data/alignments/h3nx_na.fasta', 'results/trees_rooted/h3nx_na_rooted/rerooted.newick'], ['NP', 'data/alignments/h3nx_np.fasta', 'results/trees_rooted/h3nx_np_rooted/rerooted.newick'], ['PA', 'data/alignments/h3nx_pa.fasta', 'results/trees_rooted/h3nx_pa_rooted/rerooted.newick'], ['NS', 'data/alignments/h3nx_ns.fasta', 'results/trees_rooted/h3nx_ns_rooted/rerooted.newick'], ['MP', 'data/alignments/h3nx_mp.fasta', 'results/trees_rooted/h3nx_mp_rooted/rerooted.newick']]\n"
     ]
    }
   ],
   "source": [
    "descriptor(\"swine\",\"data/alignments\", \"results/trees_rooted\")"
   ]
  },
  {
   "cell_type": "code",
   "execution_count": null,
   "id": "1a5d7b9a-e8e4-4baf-8882-e8de7f366702",
   "metadata": {},
   "outputs": [],
   "source": [
    "\n",
    "treesort_cmd = [\n",
    "    \"treesort\",\n",
    "    \"-i\", \"descriptor.csv\",\n",
    "    \"-o\", f\"output.tree\"\n",
    "    ]\n",
    "subprocess.run(treesort_cmd, check=True, capture_output=True, text=True)"
   ]
  }
 ],
 "metadata": {
  "kernelspec": {
   "display_name": "Python 3 (ipykernel)",
   "language": "python",
   "name": "python3"
  },
  "language_info": {
   "codemirror_mode": {
    "name": "ipython",
    "version": 3
   },
   "file_extension": ".py",
   "mimetype": "text/x-python",
   "name": "python",
   "nbconvert_exporter": "python",
   "pygments_lexer": "ipython3",
   "version": "3.10.9"
  }
 },
 "nbformat": 4,
 "nbformat_minor": 5
}
