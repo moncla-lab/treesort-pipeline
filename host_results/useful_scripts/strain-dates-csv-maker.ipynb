{
 "cells": [
  {
   "cell_type": "code",
   "execution_count": 1,
   "id": "6932b096-e47a-4333-9d2c-041173f7574a",
   "metadata": {},
   "outputs": [],
   "source": [
    "import pandas as pd\n",
    "import os\n",
    "import re\n",
    "import sys\n",
    "import subprocess\n",
    "from datetime import datetime\n",
    "import json\n",
    "import baltic as bt\n",
    "import caffeine\n",
    "\n",
    "module_dir = \"/Users/monclalab1/Documents/scripts/\"\n",
    "sys.path.append(module_dir)\n",
    "\n",
    "from fasta_editing import fasta_to_df, fasta_writer\n",
    "\n",
    "list_of_genes = [\"pb2\",\"pb1\",\"na\",\"np\",\"pa\",\"ns\",\"mp\"]"
   ]
  },
  {
   "cell_type": "code",
   "execution_count": 2,
   "id": "2e69c219-5354-4be3-9ca7-59dec35a4256",
   "metadata": {},
   "outputs": [],
   "source": [
    "#treetime needs a dates.csv file to root the tree\n",
    "#the date column needs to be in decimal format\n",
    "\n",
    "def create_date_csv(strain_date_map, output_dir):\n",
    "    \n",
    "    file_name = f\"{output_dir}/strain_dates.csv\"\n",
    "    \n",
    "    with open(file_name, 'w') as date_file:\n",
    "        date_file.write(\"name, date\\n\")\n",
    "        \n",
    "        for strain, date_str in strain_date_map.items():\n",
    "\n",
    "            date = datetime.strptime(date_str, '%Y-%m-%d')\n",
    "            \n",
    "            # convert to decimal year because thats what treetime uses\n",
    "            dec_date = date.year + ((date.month - 1) * 30 + date.day) / 365.0\n",
    "        \n",
    "            date_file.write(f\"{strain}, {dec_date:.2f}\\n\")\n",
    "    \n",
    "    return file_name\n"
   ]
  },
  {
   "cell_type": "code",
   "execution_count": 4,
   "id": "dae90f5d-be3a-4d5e-99a5-eeaeeda3820b",
   "metadata": {},
   "outputs": [],
   "source": [
    "for gene in list_of_genes:\n",
    "    \n",
    "    df = fasta_to_df(f\"full_genome_data/alignments/h3nx_{gene}.fasta\")\n",
    "\n",
    "    df[\"strain\"] = df[\"header\"].str.split('|').str[0]\n",
    "    df[\"date\"] = df[\"header\"].str.split('|').str[1]\n",
    "\n",
    "    aln_date_map = dict(zip(df['header'].str.replace(\">\", \"\"), df['date']))\n",
    "\n",
    "    create_date_csv(aln_date_map, \"full_genome_data\")"
   ]
  },
  {
   "cell_type": "code",
   "execution_count": null,
   "id": "2ef5454d-7cb3-4655-be02-90333b8fb6c6",
   "metadata": {},
   "outputs": [],
   "source": []
  }
 ],
 "metadata": {
  "kernelspec": {
   "display_name": "Python 3 (ipykernel)",
   "language": "python",
   "name": "python3"
  },
  "language_info": {
   "codemirror_mode": {
    "name": "ipython",
    "version": 3
   },
   "file_extension": ".py",
   "mimetype": "text/x-python",
   "name": "python",
   "nbconvert_exporter": "python",
   "pygments_lexer": "ipython3",
   "version": "3.10.9"
  }
 },
 "nbformat": 4,
 "nbformat_minor": 5
}
